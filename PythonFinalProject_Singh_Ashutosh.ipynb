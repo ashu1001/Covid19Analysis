{
 "cells": [
  {
   "cell_type": "markdown",
   "metadata": {},
   "source": [
    "## Covid-19 Analysis: Spread, Containment and Future steps \n",
    "\n",
    "Since the Ebola outbreak in 2014, there were number of alarms raised worldwide by scientists, healthcare experts and even enterpreneurs like Bill Gates about a potential pandemic that could wreak havoc on our world. But did the countries listen?\n",
    "\n",
    "In this project, we will try to figure out the same answer. The key questions which we would look to answer:\n",
    "\n",
    "* Which Countries have invested more in their healthcare before the pandemic?\n",
    "* Have these Countries been less impacted by Covid Pandemic as compared to others(in terms of deaths,number of recovered patients)?\n",
    "* Did these countries carry out more tests as compared to others?\n",
    "* Is there any significant difference between earlier death rate and death rate impacted by Covid?\n",
    "\n",
    "Finally, a model is built incorporating all these factors to predict the deaths per 1M population anf it's perfromance is evaluated.\n",
    "\n",
    "The data which I am going to use for this project is:\n",
    "\n",
    "* Covid-19 Cases Worldwide dataset (Source: https://www.worldometers.info/coronavirus/)\n",
    "* World Developement Indicators from 2015-2018 (Source: http://api.worldbank.org/v2/en/topic/8?downloadformat=csv)"
   ]
  },
  {
   "cell_type": "markdown",
   "metadata": {},
   "source": [
    "**Loading required libraries:**"
   ]
  },
  {
   "cell_type": "code",
   "execution_count": 54,
   "metadata": {},
   "outputs": [],
   "source": [
    "import pandas as pd\n",
    "import requests\n",
    "from bs4 import BeautifulSoup\n",
    "import matplotlib.pyplot as plt\n",
    "import seaborn as sns\n",
    "from sklearn.model_selection import train_test_split\n",
    "from sklearn.metrics import mean_squared_error \n",
    "from sklearn.tree import DecisionTreeRegressor  \n",
    "from sklearn.linear_model import LinearRegression\n",
    "import warnings\n",
    "warnings.filterwarnings('ignore')"
   ]
  },
  {
   "cell_type": "markdown",
   "metadata": {},
   "source": [
    "### Data Acquistion & Cleaning"
   ]
  },
  {
   "cell_type": "markdown",
   "metadata": {},
   "source": [
    "**Covid-19 Cases Worldwide data:**\n",
    "\n",
    "Web-Scraping was used to extract data from the \"Worldometer CoronaVirus\" website since it has the latest and most reliable statistics about the COVID-19 pandemic. Also its data is widely used worldwide by a number of famous organizations and publications in reporting latest news about COVID. "
   ]
  },
  {
   "cell_type": "code",
   "execution_count": 2,
   "metadata": {},
   "outputs": [],
   "source": [
    "URL = 'https://www.worldometers.info/coronavirus/'\n",
    "page = requests.get(URL)\n",
    "\n",
    "soup = BeautifulSoup(page.content, 'html.parser')"
   ]
  },
  {
   "cell_type": "markdown",
   "metadata": {},
   "source": [
    "We are going to extract data only from the main table which lists out all countries and their statistics as of today."
   ]
  },
  {
   "cell_type": "code",
   "execution_count": 3,
   "metadata": {},
   "outputs": [],
   "source": [
    "results = soup.find(id='main_table_countries_today')\n",
    "covidData = pd.read_html(results.prettify())[0]"
   ]
  },
  {
   "cell_type": "code",
   "execution_count": 4,
   "metadata": {},
   "outputs": [
    {
     "data": {
      "text/html": [
       "<div>\n",
       "<style scoped>\n",
       "    .dataframe tbody tr th:only-of-type {\n",
       "        vertical-align: middle;\n",
       "    }\n",
       "\n",
       "    .dataframe tbody tr th {\n",
       "        vertical-align: top;\n",
       "    }\n",
       "\n",
       "    .dataframe thead th {\n",
       "        text-align: right;\n",
       "    }\n",
       "</style>\n",
       "<table border=\"1\" class=\"dataframe\">\n",
       "  <thead>\n",
       "    <tr style=\"text-align: right;\">\n",
       "      <th></th>\n",
       "      <th>Country,  Other</th>\n",
       "      <th>Total  Cases</th>\n",
       "      <th>New  Cases</th>\n",
       "      <th>Total  Deaths</th>\n",
       "      <th>New  Deaths</th>\n",
       "      <th>Total  Recovered</th>\n",
       "      <th>Active  Cases</th>\n",
       "      <th>Serious,  Critical</th>\n",
       "      <th>Tot Cases/  1M pop</th>\n",
       "      <th>Deaths/  1M pop</th>\n",
       "      <th>Total  Tests</th>\n",
       "      <th>Tests/  1M pop</th>\n",
       "    </tr>\n",
       "  </thead>\n",
       "  <tbody>\n",
       "    <tr>\n",
       "      <th>0</th>\n",
       "      <td>World</td>\n",
       "      <td>2402980</td>\n",
       "      <td>+72,214</td>\n",
       "      <td>165641.0</td>\n",
       "      <td>+5,594</td>\n",
       "      <td>615703.0</td>\n",
       "      <td>1621636</td>\n",
       "      <td>54215.0</td>\n",
       "      <td>308.0</td>\n",
       "      <td>21.3</td>\n",
       "      <td>NaN</td>\n",
       "      <td>NaN</td>\n",
       "    </tr>\n",
       "    <tr>\n",
       "      <th>1</th>\n",
       "      <td>USA</td>\n",
       "      <td>762496</td>\n",
       "      <td>+23,704</td>\n",
       "      <td>40478.0</td>\n",
       "      <td>+1,464</td>\n",
       "      <td>69956.0</td>\n",
       "      <td>652062</td>\n",
       "      <td>13556.0</td>\n",
       "      <td>2304.0</td>\n",
       "      <td>122.0</td>\n",
       "      <td>3852758.0</td>\n",
       "      <td>11640.0</td>\n",
       "    </tr>\n",
       "    <tr>\n",
       "      <th>2</th>\n",
       "      <td>Spain</td>\n",
       "      <td>198674</td>\n",
       "      <td>+4,258</td>\n",
       "      <td>21238.0</td>\n",
       "      <td>+1,195</td>\n",
       "      <td>77357.0</td>\n",
       "      <td>100079</td>\n",
       "      <td>7371.0</td>\n",
       "      <td>4249.0</td>\n",
       "      <td>454.0</td>\n",
       "      <td>930230.0</td>\n",
       "      <td>19896.0</td>\n",
       "    </tr>\n",
       "    <tr>\n",
       "      <th>3</th>\n",
       "      <td>Italy</td>\n",
       "      <td>178972</td>\n",
       "      <td>+3,047</td>\n",
       "      <td>23660.0</td>\n",
       "      <td>+433</td>\n",
       "      <td>47055.0</td>\n",
       "      <td>108257</td>\n",
       "      <td>2635.0</td>\n",
       "      <td>2960.0</td>\n",
       "      <td>391.0</td>\n",
       "      <td>1356541.0</td>\n",
       "      <td>22436.0</td>\n",
       "    </tr>\n",
       "    <tr>\n",
       "      <th>4</th>\n",
       "      <td>France</td>\n",
       "      <td>152894</td>\n",
       "      <td>+1,101</td>\n",
       "      <td>19718.0</td>\n",
       "      <td>+395</td>\n",
       "      <td>36578.0</td>\n",
       "      <td>96598</td>\n",
       "      <td>5744.0</td>\n",
       "      <td>2342.0</td>\n",
       "      <td>302.0</td>\n",
       "      <td>463662.0</td>\n",
       "      <td>7103.0</td>\n",
       "    </tr>\n",
       "  </tbody>\n",
       "</table>\n",
       "</div>"
      ],
      "text/plain": [
       "  Country,  Other  Total  Cases New  Cases  Total  Deaths New  Deaths  \\\n",
       "0           World       2402980    +72,214       165641.0      +5,594   \n",
       "1             USA        762496    +23,704        40478.0      +1,464   \n",
       "2           Spain        198674     +4,258        21238.0      +1,195   \n",
       "3           Italy        178972     +3,047        23660.0        +433   \n",
       "4          France        152894     +1,101        19718.0        +395   \n",
       "\n",
       "   Total  Recovered  Active  Cases  Serious,  Critical  Tot Cases/  1M pop  \\\n",
       "0          615703.0        1621636             54215.0               308.0   \n",
       "1           69956.0         652062             13556.0              2304.0   \n",
       "2           77357.0         100079              7371.0              4249.0   \n",
       "3           47055.0         108257              2635.0              2960.0   \n",
       "4           36578.0          96598              5744.0              2342.0   \n",
       "\n",
       "   Deaths/  1M pop  Total  Tests  Tests/  1M pop  \n",
       "0             21.3           NaN             NaN  \n",
       "1            122.0     3852758.0         11640.0  \n",
       "2            454.0      930230.0         19896.0  \n",
       "3            391.0     1356541.0         22436.0  \n",
       "4            302.0      463662.0          7103.0  "
      ]
     },
     "execution_count": 4,
     "metadata": {},
     "output_type": "execute_result"
    }
   ],
   "source": [
    "covidData.head()"
   ]
  },
  {
   "cell_type": "code",
   "execution_count": 5,
   "metadata": {},
   "outputs": [
    {
     "data": {
      "text/plain": [
       "(214, 12)"
      ]
     },
     "execution_count": 5,
     "metadata": {},
     "output_type": "execute_result"
    }
   ],
   "source": [
    "covidData.shape"
   ]
  },
  {
   "cell_type": "markdown",
   "metadata": {},
   "source": [
    "The data is of 213 countries with 12 features. Some key insights about the data:"
   ]
  },
  {
   "cell_type": "code",
   "execution_count": 6,
   "metadata": {},
   "outputs": [
    {
     "name": "stdout",
     "output_type": "stream",
     "text": [
      "Total Number of Cases Worldwide: 2402980\n",
      "Total Number of Deaths Worldwide: 165641.0\n",
      "Total Number of Recovered Patients Worldwide: 615703.0\n"
     ]
    }
   ],
   "source": [
    "print(\"Total Number of Cases Worldwide:\",covidData['Total  Cases'][0])\n",
    "print(\"Total Number of Deaths Worldwide:\",covidData['Total  Deaths'][0])\n",
    "print(\"Total Number of Recovered Patients Worldwide:\",covidData['Total  Recovered'][0])"
   ]
  },
  {
   "cell_type": "code",
   "execution_count": 7,
   "metadata": {},
   "outputs": [
    {
     "name": "stdout",
     "output_type": "stream",
     "text": [
      "Percent of Active cases in Serious condition: 3%\n"
     ]
    }
   ],
   "source": [
    "print(\"Percent of Active cases in Serious condition: \" + \"{0:.0%}\".format(covidData['Serious,  Critical'][0]/covidData['Active  Cases'][0]))"
   ]
  },
  {
   "cell_type": "markdown",
   "metadata": {},
   "source": [
    "We can observe that 3% of the current active cases are in serious or critical condition."
   ]
  },
  {
   "cell_type": "code",
   "execution_count": 8,
   "metadata": {
    "scrolled": true
   },
   "outputs": [],
   "source": [
    "##Removing observation about world since it is going to be merged with other datasets\n",
    "covidDf = covidData[1:]\n",
    "## Removing '+' in New Cases and New Deaths\n",
    "covidDf['New  Cases'] = covidDf['New  Cases'].dropna().str.replace(',', '').str.replace('$', '').astype(int)\n",
    "covidDf['New  Deaths'] = covidDf['New  Deaths'].dropna().str.replace(',', '').str.replace('$', '').astype(int)\n",
    "covidDf.rename(columns = {'Country,  Other':'Country'}, inplace = True);"
   ]
  },
  {
   "cell_type": "code",
   "execution_count": 61,
   "metadata": {
    "scrolled": true
   },
   "outputs": [
    {
     "data": {
      "text/html": [
       "<div>\n",
       "<style scoped>\n",
       "    .dataframe tbody tr th:only-of-type {\n",
       "        vertical-align: middle;\n",
       "    }\n",
       "\n",
       "    .dataframe tbody tr th {\n",
       "        vertical-align: top;\n",
       "    }\n",
       "\n",
       "    .dataframe thead th {\n",
       "        text-align: right;\n",
       "    }\n",
       "</style>\n",
       "<table border=\"1\" class=\"dataframe\">\n",
       "  <thead>\n",
       "    <tr style=\"text-align: right;\">\n",
       "      <th></th>\n",
       "      <th>Country</th>\n",
       "      <th>Total  Cases</th>\n",
       "      <th>New  Cases</th>\n",
       "      <th>Total  Deaths</th>\n",
       "      <th>New  Deaths</th>\n",
       "      <th>Total  Recovered</th>\n",
       "      <th>Active  Cases</th>\n",
       "      <th>Serious,  Critical</th>\n",
       "      <th>Tot Cases/  1M pop</th>\n",
       "      <th>Deaths/  1M pop</th>\n",
       "      <th>Total  Tests</th>\n",
       "      <th>Tests/  1M pop</th>\n",
       "    </tr>\n",
       "  </thead>\n",
       "  <tbody>\n",
       "    <tr>\n",
       "      <th>1</th>\n",
       "      <td>USA</td>\n",
       "      <td>762496</td>\n",
       "      <td>23704.0</td>\n",
       "      <td>40478.0</td>\n",
       "      <td>1464.0</td>\n",
       "      <td>69956.0</td>\n",
       "      <td>652062</td>\n",
       "      <td>13556.0</td>\n",
       "      <td>2304.0</td>\n",
       "      <td>122.0</td>\n",
       "      <td>3852758.0</td>\n",
       "      <td>11640.0</td>\n",
       "    </tr>\n",
       "    <tr>\n",
       "      <th>2</th>\n",
       "      <td>Spain</td>\n",
       "      <td>198674</td>\n",
       "      <td>4258.0</td>\n",
       "      <td>21238.0</td>\n",
       "      <td>1195.0</td>\n",
       "      <td>77357.0</td>\n",
       "      <td>100079</td>\n",
       "      <td>7371.0</td>\n",
       "      <td>4249.0</td>\n",
       "      <td>454.0</td>\n",
       "      <td>930230.0</td>\n",
       "      <td>19896.0</td>\n",
       "    </tr>\n",
       "    <tr>\n",
       "      <th>3</th>\n",
       "      <td>Italy</td>\n",
       "      <td>178972</td>\n",
       "      <td>3047.0</td>\n",
       "      <td>23660.0</td>\n",
       "      <td>433.0</td>\n",
       "      <td>47055.0</td>\n",
       "      <td>108257</td>\n",
       "      <td>2635.0</td>\n",
       "      <td>2960.0</td>\n",
       "      <td>391.0</td>\n",
       "      <td>1356541.0</td>\n",
       "      <td>22436.0</td>\n",
       "    </tr>\n",
       "    <tr>\n",
       "      <th>4</th>\n",
       "      <td>France</td>\n",
       "      <td>152894</td>\n",
       "      <td>1101.0</td>\n",
       "      <td>19718.0</td>\n",
       "      <td>395.0</td>\n",
       "      <td>36578.0</td>\n",
       "      <td>96598</td>\n",
       "      <td>5744.0</td>\n",
       "      <td>2342.0</td>\n",
       "      <td>302.0</td>\n",
       "      <td>463662.0</td>\n",
       "      <td>7103.0</td>\n",
       "    </tr>\n",
       "    <tr>\n",
       "      <th>5</th>\n",
       "      <td>Germany</td>\n",
       "      <td>145184</td>\n",
       "      <td>1460.0</td>\n",
       "      <td>4586.0</td>\n",
       "      <td>48.0</td>\n",
       "      <td>88000.0</td>\n",
       "      <td>52598</td>\n",
       "      <td>2889.0</td>\n",
       "      <td>1733.0</td>\n",
       "      <td>55.0</td>\n",
       "      <td>1728357.0</td>\n",
       "      <td>20629.0</td>\n",
       "    </tr>\n",
       "    <tr>\n",
       "      <th>6</th>\n",
       "      <td>UK</td>\n",
       "      <td>120067</td>\n",
       "      <td>5850.0</td>\n",
       "      <td>16060.0</td>\n",
       "      <td>596.0</td>\n",
       "      <td>NaN</td>\n",
       "      <td>103663</td>\n",
       "      <td>1559.0</td>\n",
       "      <td>1769.0</td>\n",
       "      <td>237.0</td>\n",
       "      <td>482063.0</td>\n",
       "      <td>7101.0</td>\n",
       "    </tr>\n",
       "  </tbody>\n",
       "</table>\n",
       "</div>"
      ],
      "text/plain": [
       "   Country  Total  Cases  New  Cases  Total  Deaths  New  Deaths  \\\n",
       "1      USA        762496     23704.0        40478.0       1464.0   \n",
       "2    Spain        198674      4258.0        21238.0       1195.0   \n",
       "3    Italy        178972      3047.0        23660.0        433.0   \n",
       "4   France        152894      1101.0        19718.0        395.0   \n",
       "5  Germany        145184      1460.0         4586.0         48.0   \n",
       "6       UK        120067      5850.0        16060.0        596.0   \n",
       "\n",
       "   Total  Recovered  Active  Cases  Serious,  Critical  Tot Cases/  1M pop  \\\n",
       "1           69956.0         652062             13556.0              2304.0   \n",
       "2           77357.0         100079              7371.0              4249.0   \n",
       "3           47055.0         108257              2635.0              2960.0   \n",
       "4           36578.0          96598              5744.0              2342.0   \n",
       "5           88000.0          52598              2889.0              1733.0   \n",
       "6               NaN         103663              1559.0              1769.0   \n",
       "\n",
       "   Deaths/  1M pop  Total  Tests  Tests/  1M pop  \n",
       "1            122.0     3852758.0         11640.0  \n",
       "2            454.0      930230.0         19896.0  \n",
       "3            391.0     1356541.0         22436.0  \n",
       "4            302.0      463662.0          7103.0  \n",
       "5             55.0     1728357.0         20629.0  \n",
       "6            237.0      482063.0          7101.0  "
      ]
     },
     "execution_count": 61,
     "metadata": {},
     "output_type": "execute_result"
    }
   ],
   "source": [
    "covidDf.head()"
   ]
  },
  {
   "cell_type": "code",
   "execution_count": 10,
   "metadata": {},
   "outputs": [
    {
     "data": {
      "text/plain": [
       "Country                object\n",
       "Total  Cases            int64\n",
       "New  Cases            float64\n",
       "Total  Deaths         float64\n",
       "New  Deaths           float64\n",
       "Total  Recovered      float64\n",
       "Active  Cases           int64\n",
       "Serious,  Critical    float64\n",
       "Tot Cases/  1M pop    float64\n",
       "Deaths/  1M pop       float64\n",
       "Total  Tests          float64\n",
       "Tests/  1M pop        float64\n",
       "dtype: object"
      ]
     },
     "execution_count": 10,
     "metadata": {},
     "output_type": "execute_result"
    }
   ],
   "source": [
    "covidDf.dtypes"
   ]
  },
  {
   "cell_type": "markdown",
   "metadata": {},
   "source": [
    "**Check Percent of Missing Values:**"
   ]
  },
  {
   "cell_type": "code",
   "execution_count": 11,
   "metadata": {},
   "outputs": [
    {
     "name": "stdout",
     "output_type": "stream",
     "text": [
      "              variable missing_values  missing_%\n",
      "4          New  Deaths            128      60.09\n",
      "7   Serious,  Critical             76      35.68\n",
      "2           New  Cases             73      34.27\n",
      "9      Deaths/  1M pop             48      22.54\n",
      "10        Total  Tests             47      22.07\n",
      "11      Tests/  1M pop             47      22.07\n",
      "3        Total  Deaths             46      21.60\n",
      "5     Total  Recovered             15       7.04\n",
      "8   Tot Cases/  1M pop              2       0.94\n",
      "0              Country              0       0.00\n",
      "1         Total  Cases              0       0.00\n",
      "6        Active  Cases              0       0.00\n"
     ]
    }
   ],
   "source": [
    "def missing_values(df):\n",
    "    miss_summary = pd.DataFrame(columns=['variable','missing_values', 'missing_%'])\n",
    "    columns = df.columns\n",
    "    for col in columns:\n",
    "        col_name = col\n",
    "        count = df[col].isnull().sum()\n",
    "        percentage = round((df[col].isna().sum()/df[col].shape[0])*100,2)\n",
    "        miss_summary.loc[len(miss_summary)] = [col_name, count, percentage]\n",
    "        miss_summary.sort_values('missing_values',ascending=False,inplace=True)\n",
    "    print(miss_summary)\n",
    "\n",
    "missing_values(covidDf)"
   ]
  },
  {
   "cell_type": "markdown",
   "metadata": {},
   "source": [
    "**Data Quality Insights:**\n",
    "* High percent of missing values in \"New Deaths\" - probably because of no new death recorded today or the data has still not been provided by the respective country\n",
    "* Similar is the case with \"New Cases\"\n",
    "* Rest of the missing values are also highly dependent on each country health agencies, their transparency and other factors\n",
    "* Proceeding without imputing this data since it will highly distort our further analysis"
   ]
  },
  {
   "cell_type": "markdown",
   "metadata": {},
   "source": [
    "**World Development Indicators Data:**"
   ]
  },
  {
   "cell_type": "code",
   "execution_count": 62,
   "metadata": {},
   "outputs": [],
   "source": [
    "wdiData = pd.read_csv(\"data/WDIndicators.csv\")"
   ]
  },
  {
   "cell_type": "code",
   "execution_count": 64,
   "metadata": {
    "scrolled": true
   },
   "outputs": [
    {
     "data": {
      "text/html": [
       "<div>\n",
       "<style scoped>\n",
       "    .dataframe tbody tr th:only-of-type {\n",
       "        vertical-align: middle;\n",
       "    }\n",
       "\n",
       "    .dataframe tbody tr th {\n",
       "        vertical-align: top;\n",
       "    }\n",
       "\n",
       "    .dataframe thead th {\n",
       "        text-align: right;\n",
       "    }\n",
       "</style>\n",
       "<table border=\"1\" class=\"dataframe\">\n",
       "  <thead>\n",
       "    <tr style=\"text-align: right;\">\n",
       "      <th></th>\n",
       "      <th>Country Name</th>\n",
       "      <th>Country Code</th>\n",
       "      <th>Indicator Name</th>\n",
       "      <th>Indicator Code</th>\n",
       "      <th>1960</th>\n",
       "      <th>1961</th>\n",
       "      <th>1962</th>\n",
       "      <th>1963</th>\n",
       "      <th>1964</th>\n",
       "      <th>1965</th>\n",
       "      <th>...</th>\n",
       "      <th>2010</th>\n",
       "      <th>2011</th>\n",
       "      <th>2012</th>\n",
       "      <th>2013</th>\n",
       "      <th>2014</th>\n",
       "      <th>2015</th>\n",
       "      <th>2016</th>\n",
       "      <th>2017</th>\n",
       "      <th>2018</th>\n",
       "      <th>2019</th>\n",
       "    </tr>\n",
       "  </thead>\n",
       "  <tbody>\n",
       "    <tr>\n",
       "      <th>0</th>\n",
       "      <td>Aruba</td>\n",
       "      <td>ABW</td>\n",
       "      <td>Specialist surgical workforce (per 100,000 pop...</td>\n",
       "      <td>SH.MED.SAOP.P5</td>\n",
       "      <td>NaN</td>\n",
       "      <td>NaN</td>\n",
       "      <td>NaN</td>\n",
       "      <td>NaN</td>\n",
       "      <td>NaN</td>\n",
       "      <td>NaN</td>\n",
       "      <td>...</td>\n",
       "      <td>NaN</td>\n",
       "      <td>NaN</td>\n",
       "      <td>NaN</td>\n",
       "      <td>NaN</td>\n",
       "      <td>NaN</td>\n",
       "      <td>NaN</td>\n",
       "      <td>NaN</td>\n",
       "      <td>NaN</td>\n",
       "      <td>NaN</td>\n",
       "      <td>NaN</td>\n",
       "    </tr>\n",
       "    <tr>\n",
       "      <th>1</th>\n",
       "      <td>Aruba</td>\n",
       "      <td>ABW</td>\n",
       "      <td>Physicians (per 1,000 people)</td>\n",
       "      <td>SH.MED.PHYS.ZS</td>\n",
       "      <td>NaN</td>\n",
       "      <td>NaN</td>\n",
       "      <td>NaN</td>\n",
       "      <td>NaN</td>\n",
       "      <td>NaN</td>\n",
       "      <td>NaN</td>\n",
       "      <td>...</td>\n",
       "      <td>NaN</td>\n",
       "      <td>NaN</td>\n",
       "      <td>NaN</td>\n",
       "      <td>NaN</td>\n",
       "      <td>NaN</td>\n",
       "      <td>NaN</td>\n",
       "      <td>NaN</td>\n",
       "      <td>NaN</td>\n",
       "      <td>NaN</td>\n",
       "      <td>NaN</td>\n",
       "    </tr>\n",
       "    <tr>\n",
       "      <th>2</th>\n",
       "      <td>Aruba</td>\n",
       "      <td>ABW</td>\n",
       "      <td>Nurses and midwives (per 1,000 people)</td>\n",
       "      <td>SH.MED.NUMW.P3</td>\n",
       "      <td>NaN</td>\n",
       "      <td>NaN</td>\n",
       "      <td>NaN</td>\n",
       "      <td>NaN</td>\n",
       "      <td>NaN</td>\n",
       "      <td>NaN</td>\n",
       "      <td>...</td>\n",
       "      <td>NaN</td>\n",
       "      <td>NaN</td>\n",
       "      <td>NaN</td>\n",
       "      <td>NaN</td>\n",
       "      <td>NaN</td>\n",
       "      <td>NaN</td>\n",
       "      <td>NaN</td>\n",
       "      <td>NaN</td>\n",
       "      <td>NaN</td>\n",
       "      <td>NaN</td>\n",
       "    </tr>\n",
       "    <tr>\n",
       "      <th>3</th>\n",
       "      <td>Aruba</td>\n",
       "      <td>ABW</td>\n",
       "      <td>Community health workers (per 1,000 people)</td>\n",
       "      <td>SH.MED.CMHW.P3</td>\n",
       "      <td>NaN</td>\n",
       "      <td>NaN</td>\n",
       "      <td>NaN</td>\n",
       "      <td>NaN</td>\n",
       "      <td>NaN</td>\n",
       "      <td>NaN</td>\n",
       "      <td>...</td>\n",
       "      <td>NaN</td>\n",
       "      <td>NaN</td>\n",
       "      <td>NaN</td>\n",
       "      <td>NaN</td>\n",
       "      <td>NaN</td>\n",
       "      <td>NaN</td>\n",
       "      <td>NaN</td>\n",
       "      <td>NaN</td>\n",
       "      <td>NaN</td>\n",
       "      <td>NaN</td>\n",
       "    </tr>\n",
       "    <tr>\n",
       "      <th>4</th>\n",
       "      <td>Aruba</td>\n",
       "      <td>ABW</td>\n",
       "      <td>Hospital beds (per 1,000 people)</td>\n",
       "      <td>SH.MED.BEDS.ZS</td>\n",
       "      <td>NaN</td>\n",
       "      <td>NaN</td>\n",
       "      <td>NaN</td>\n",
       "      <td>NaN</td>\n",
       "      <td>NaN</td>\n",
       "      <td>NaN</td>\n",
       "      <td>...</td>\n",
       "      <td>NaN</td>\n",
       "      <td>NaN</td>\n",
       "      <td>NaN</td>\n",
       "      <td>NaN</td>\n",
       "      <td>NaN</td>\n",
       "      <td>NaN</td>\n",
       "      <td>NaN</td>\n",
       "      <td>NaN</td>\n",
       "      <td>NaN</td>\n",
       "      <td>NaN</td>\n",
       "    </tr>\n",
       "  </tbody>\n",
       "</table>\n",
       "<p>5 rows × 64 columns</p>\n",
       "</div>"
      ],
      "text/plain": [
       "  Country Name Country Code  \\\n",
       "0        Aruba          ABW   \n",
       "1        Aruba          ABW   \n",
       "2        Aruba          ABW   \n",
       "3        Aruba          ABW   \n",
       "4        Aruba          ABW   \n",
       "\n",
       "                                      Indicator Name  Indicator Code  1960  \\\n",
       "0  Specialist surgical workforce (per 100,000 pop...  SH.MED.SAOP.P5   NaN   \n",
       "1                      Physicians (per 1,000 people)  SH.MED.PHYS.ZS   NaN   \n",
       "2             Nurses and midwives (per 1,000 people)  SH.MED.NUMW.P3   NaN   \n",
       "3        Community health workers (per 1,000 people)  SH.MED.CMHW.P3   NaN   \n",
       "4                   Hospital beds (per 1,000 people)  SH.MED.BEDS.ZS   NaN   \n",
       "\n",
       "   1961  1962  1963  1964  1965  ...  2010  2011  2012  2013  2014  2015  \\\n",
       "0   NaN   NaN   NaN   NaN   NaN  ...   NaN   NaN   NaN   NaN   NaN   NaN   \n",
       "1   NaN   NaN   NaN   NaN   NaN  ...   NaN   NaN   NaN   NaN   NaN   NaN   \n",
       "2   NaN   NaN   NaN   NaN   NaN  ...   NaN   NaN   NaN   NaN   NaN   NaN   \n",
       "3   NaN   NaN   NaN   NaN   NaN  ...   NaN   NaN   NaN   NaN   NaN   NaN   \n",
       "4   NaN   NaN   NaN   NaN   NaN  ...   NaN   NaN   NaN   NaN   NaN   NaN   \n",
       "\n",
       "   2016  2017  2018  2019  \n",
       "0   NaN   NaN   NaN   NaN  \n",
       "1   NaN   NaN   NaN   NaN  \n",
       "2   NaN   NaN   NaN   NaN  \n",
       "3   NaN   NaN   NaN   NaN  \n",
       "4   NaN   NaN   NaN   NaN  \n",
       "\n",
       "[5 rows x 64 columns]"
      ]
     },
     "execution_count": 64,
     "metadata": {},
     "output_type": "execute_result"
    }
   ],
   "source": [
    "wdiData.head()"
   ]
  },
  {
   "cell_type": "markdown",
   "metadata": {},
   "source": [
    "Since the data contains World Development indicators from 1960 to 2019, we are only concentrating for the year 2017 since most of the data is missing for the years 2018 and 2019 and we could get an idea of country's health indicators before the pandemic hit."
   ]
  },
  {
   "cell_type": "code",
   "execution_count": 65,
   "metadata": {
    "scrolled": true
   },
   "outputs": [
    {
     "data": {
      "text/html": [
       "<div>\n",
       "<style scoped>\n",
       "    .dataframe tbody tr th:only-of-type {\n",
       "        vertical-align: middle;\n",
       "    }\n",
       "\n",
       "    .dataframe tbody tr th {\n",
       "        vertical-align: top;\n",
       "    }\n",
       "\n",
       "    .dataframe thead th {\n",
       "        text-align: right;\n",
       "    }\n",
       "</style>\n",
       "<table border=\"1\" class=\"dataframe\">\n",
       "  <thead>\n",
       "    <tr style=\"text-align: right;\">\n",
       "      <th></th>\n",
       "      <th>Country Name</th>\n",
       "      <th>Indicator Name</th>\n",
       "      <th>2017</th>\n",
       "    </tr>\n",
       "  </thead>\n",
       "  <tbody>\n",
       "    <tr>\n",
       "      <th>0</th>\n",
       "      <td>Aruba</td>\n",
       "      <td>Specialist surgical workforce (per 100,000 pop...</td>\n",
       "      <td>NaN</td>\n",
       "    </tr>\n",
       "    <tr>\n",
       "      <th>1</th>\n",
       "      <td>Aruba</td>\n",
       "      <td>Physicians (per 1,000 people)</td>\n",
       "      <td>NaN</td>\n",
       "    </tr>\n",
       "    <tr>\n",
       "      <th>2</th>\n",
       "      <td>Aruba</td>\n",
       "      <td>Nurses and midwives (per 1,000 people)</td>\n",
       "      <td>NaN</td>\n",
       "    </tr>\n",
       "    <tr>\n",
       "      <th>3</th>\n",
       "      <td>Aruba</td>\n",
       "      <td>Community health workers (per 1,000 people)</td>\n",
       "      <td>NaN</td>\n",
       "    </tr>\n",
       "    <tr>\n",
       "      <th>4</th>\n",
       "      <td>Aruba</td>\n",
       "      <td>Hospital beds (per 1,000 people)</td>\n",
       "      <td>NaN</td>\n",
       "    </tr>\n",
       "  </tbody>\n",
       "</table>\n",
       "</div>"
      ],
      "text/plain": [
       "  Country Name                                     Indicator Name  2017\n",
       "0        Aruba  Specialist surgical workforce (per 100,000 pop...   NaN\n",
       "1        Aruba                      Physicians (per 1,000 people)   NaN\n",
       "2        Aruba             Nurses and midwives (per 1,000 people)   NaN\n",
       "3        Aruba        Community health workers (per 1,000 people)   NaN\n",
       "4        Aruba                   Hospital beds (per 1,000 people)   NaN"
      ]
     },
     "execution_count": 65,
     "metadata": {},
     "output_type": "execute_result"
    }
   ],
   "source": [
    "colsubset = ['Country Name', 'Indicator Name','2017']\n",
    "wdiDataNew = wdiData[colsubset]\n",
    "wdiDataNew.head()"
   ]
  },
  {
   "cell_type": "markdown",
   "metadata": {},
   "source": [
    "**Filtering for the required indicators:**"
   ]
  },
  {
   "cell_type": "code",
   "execution_count": 66,
   "metadata": {},
   "outputs": [],
   "source": [
    "reqIndicators = ['Hospital beds (per 1,000 people)','Physicians (per 1,000 people)','Life expectancy at birth, total (years)',\n",
    "                 'Current health expenditure (% of GDP)','Current health expenditure per capita, PPP (current international $)'\n",
    "                ,'Death rate, crude (per 1,000 people)','Population ages 65 and above, total','Population, total']\n",
    "wdiDataNew  =wdiDataNew[wdiDataNew['Indicator Name'].isin(reqIndicators)]"
   ]
  },
  {
   "cell_type": "markdown",
   "metadata": {},
   "source": [
    "The  data is in long format. We have to convert it into wide format in order to further merge with the covid dataset."
   ]
  },
  {
   "cell_type": "markdown",
   "metadata": {},
   "source": [
    "**Reshaping the data:**"
   ]
  },
  {
   "cell_type": "code",
   "execution_count": 67,
   "metadata": {},
   "outputs": [],
   "source": [
    "wdiDataNew.rename(columns = {'Country Name':'Country'}, inplace = True)\n",
    "\n",
    "wdiDataV1 = wdiDataNew.pivot(index='Country', columns='Indicator Name', values='2017')\n",
    "wdiDataV2 = wdiDataV1.reset_index()\n"
   ]
  },
  {
   "cell_type": "code",
   "execution_count": 17,
   "metadata": {},
   "outputs": [
    {
     "name": "stdout",
     "output_type": "stream",
     "text": [
      "                                            variable missing_values  missing_%\n",
      "4                   Hospital beds (per 1,000 people)            264     100.00\n",
      "6                      Physicians (per 1,000 people)            215      81.44\n",
      "2  Current health expenditure per capita, PPP (cu...             79      29.92\n",
      "1              Current health expenditure (% of GDP)             33      12.50\n",
      "7                Population ages 65 and above, total             25       9.47\n",
      "5            Life expectancy at birth, total (years)             19       7.20\n",
      "3               Death rate, crude (per 1,000 people)             13       4.92\n",
      "8                                  Population, total              2       0.76\n",
      "0                                            Country              0       0.00\n"
     ]
    }
   ],
   "source": [
    "missing_values(wdiDataV2)"
   ]
  },
  {
   "cell_type": "markdown",
   "metadata": {},
   "source": [
    "**Data Quality Insights:**\n",
    "* High percent of missing values in Hospital beds and Physicians, so removing them\n",
    "* Using only \"Current health expenditure (% of GDP)\" beacuse less percent of missing values as compared to per capita"
   ]
  },
  {
   "cell_type": "code",
   "execution_count": 68,
   "metadata": {},
   "outputs": [],
   "source": [
    "wdiDataFinal = wdiDataV2.drop(['Hospital beds (per 1,000 people)','Physicians (per 1,000 people)',\n",
    "                               'Current health expenditure per capita, PPP (current international $)'],axis=1)"
   ]
  },
  {
   "cell_type": "code",
   "execution_count": 19,
   "metadata": {},
   "outputs": [
    {
     "name": "stdout",
     "output_type": "stream",
     "text": [
      "                                  variable missing_values  missing_%\n",
      "1    Current health expenditure (% of GDP)             33      12.50\n",
      "4      Population ages 65 and above, total             25       9.47\n",
      "3  Life expectancy at birth, total (years)             19       7.20\n",
      "2     Death rate, crude (per 1,000 people)             13       4.92\n",
      "5                        Population, total              2       0.76\n",
      "0                                  Country              0       0.00\n"
     ]
    }
   ],
   "source": [
    "missing_values(wdiDataFinal)"
   ]
  },
  {
   "cell_type": "markdown",
   "metadata": {},
   "source": [
    "**Merging the two data on country:**"
   ]
  },
  {
   "cell_type": "code",
   "execution_count": 69,
   "metadata": {},
   "outputs": [],
   "source": [
    "covid_wdi = covidDf.merge(wdiDataFinal, left_on='Country', right_on='Country')"
   ]
  },
  {
   "cell_type": "code",
   "execution_count": 70,
   "metadata": {
    "scrolled": false
   },
   "outputs": [
    {
     "data": {
      "text/html": [
       "<div>\n",
       "<style scoped>\n",
       "    .dataframe tbody tr th:only-of-type {\n",
       "        vertical-align: middle;\n",
       "    }\n",
       "\n",
       "    .dataframe tbody tr th {\n",
       "        vertical-align: top;\n",
       "    }\n",
       "\n",
       "    .dataframe thead th {\n",
       "        text-align: right;\n",
       "    }\n",
       "</style>\n",
       "<table border=\"1\" class=\"dataframe\">\n",
       "  <thead>\n",
       "    <tr style=\"text-align: right;\">\n",
       "      <th></th>\n",
       "      <th>Country</th>\n",
       "      <th>Total  Cases</th>\n",
       "      <th>New  Cases</th>\n",
       "      <th>Total  Deaths</th>\n",
       "      <th>New  Deaths</th>\n",
       "      <th>Total  Recovered</th>\n",
       "      <th>Active  Cases</th>\n",
       "      <th>Serious,  Critical</th>\n",
       "      <th>Tot Cases/  1M pop</th>\n",
       "      <th>Deaths/  1M pop</th>\n",
       "      <th>Total  Tests</th>\n",
       "      <th>Tests/  1M pop</th>\n",
       "      <th>Current health expenditure (% of GDP)</th>\n",
       "      <th>Death rate, crude (per 1,000 people)</th>\n",
       "      <th>Life expectancy at birth, total (years)</th>\n",
       "      <th>Population ages 65 and above, total</th>\n",
       "      <th>Population, total</th>\n",
       "    </tr>\n",
       "  </thead>\n",
       "  <tbody>\n",
       "    <tr>\n",
       "      <th>0</th>\n",
       "      <td>USA</td>\n",
       "      <td>762496</td>\n",
       "      <td>23704.0</td>\n",
       "      <td>40478.0</td>\n",
       "      <td>1464.0</td>\n",
       "      <td>69956.0</td>\n",
       "      <td>652062</td>\n",
       "      <td>13556.0</td>\n",
       "      <td>2304.0</td>\n",
       "      <td>122.0</td>\n",
       "      <td>3852758.0</td>\n",
       "      <td>11640.0</td>\n",
       "      <td>17.061269</td>\n",
       "      <td>8.638</td>\n",
       "      <td>78.539024</td>\n",
       "      <td>50110709.0</td>\n",
       "      <td>324985539.0</td>\n",
       "    </tr>\n",
       "    <tr>\n",
       "      <th>1</th>\n",
       "      <td>Spain</td>\n",
       "      <td>198674</td>\n",
       "      <td>4258.0</td>\n",
       "      <td>21238.0</td>\n",
       "      <td>1195.0</td>\n",
       "      <td>77357.0</td>\n",
       "      <td>100079</td>\n",
       "      <td>7371.0</td>\n",
       "      <td>4249.0</td>\n",
       "      <td>454.0</td>\n",
       "      <td>930230.0</td>\n",
       "      <td>19896.0</td>\n",
       "      <td>8.873130</td>\n",
       "      <td>9.100</td>\n",
       "      <td>83.282927</td>\n",
       "      <td>8920670.0</td>\n",
       "      <td>46593236.0</td>\n",
       "    </tr>\n",
       "    <tr>\n",
       "      <th>2</th>\n",
       "      <td>Italy</td>\n",
       "      <td>178972</td>\n",
       "      <td>3047.0</td>\n",
       "      <td>23660.0</td>\n",
       "      <td>433.0</td>\n",
       "      <td>47055.0</td>\n",
       "      <td>108257</td>\n",
       "      <td>2635.0</td>\n",
       "      <td>2960.0</td>\n",
       "      <td>391.0</td>\n",
       "      <td>1356541.0</td>\n",
       "      <td>22436.0</td>\n",
       "      <td>8.840259</td>\n",
       "      <td>10.700</td>\n",
       "      <td>82.946341</td>\n",
       "      <td>13620571.0</td>\n",
       "      <td>60536709.0</td>\n",
       "    </tr>\n",
       "    <tr>\n",
       "      <th>3</th>\n",
       "      <td>France</td>\n",
       "      <td>152894</td>\n",
       "      <td>1101.0</td>\n",
       "      <td>19718.0</td>\n",
       "      <td>395.0</td>\n",
       "      <td>36578.0</td>\n",
       "      <td>96598</td>\n",
       "      <td>5744.0</td>\n",
       "      <td>2342.0</td>\n",
       "      <td>302.0</td>\n",
       "      <td>463662.0</td>\n",
       "      <td>7103.0</td>\n",
       "      <td>11.312892</td>\n",
       "      <td>9.100</td>\n",
       "      <td>82.526829</td>\n",
       "      <td>13151703.0</td>\n",
       "      <td>66865144.0</td>\n",
       "    </tr>\n",
       "    <tr>\n",
       "      <th>4</th>\n",
       "      <td>Germany</td>\n",
       "      <td>145184</td>\n",
       "      <td>1460.0</td>\n",
       "      <td>4586.0</td>\n",
       "      <td>48.0</td>\n",
       "      <td>88000.0</td>\n",
       "      <td>52598</td>\n",
       "      <td>2889.0</td>\n",
       "      <td>1733.0</td>\n",
       "      <td>55.0</td>\n",
       "      <td>1728357.0</td>\n",
       "      <td>20629.0</td>\n",
       "      <td>11.246835</td>\n",
       "      <td>11.300</td>\n",
       "      <td>80.992683</td>\n",
       "      <td>17665031.0</td>\n",
       "      <td>82657002.0</td>\n",
       "    </tr>\n",
       "  </tbody>\n",
       "</table>\n",
       "</div>"
      ],
      "text/plain": [
       "   Country  Total  Cases  New  Cases  Total  Deaths  New  Deaths  \\\n",
       "0      USA        762496     23704.0        40478.0       1464.0   \n",
       "1    Spain        198674      4258.0        21238.0       1195.0   \n",
       "2    Italy        178972      3047.0        23660.0        433.0   \n",
       "3   France        152894      1101.0        19718.0        395.0   \n",
       "4  Germany        145184      1460.0         4586.0         48.0   \n",
       "\n",
       "   Total  Recovered  Active  Cases  Serious,  Critical  Tot Cases/  1M pop  \\\n",
       "0           69956.0         652062             13556.0              2304.0   \n",
       "1           77357.0         100079              7371.0              4249.0   \n",
       "2           47055.0         108257              2635.0              2960.0   \n",
       "3           36578.0          96598              5744.0              2342.0   \n",
       "4           88000.0          52598              2889.0              1733.0   \n",
       "\n",
       "   Deaths/  1M pop  Total  Tests  Tests/  1M pop  \\\n",
       "0            122.0     3852758.0         11640.0   \n",
       "1            454.0      930230.0         19896.0   \n",
       "2            391.0     1356541.0         22436.0   \n",
       "3            302.0      463662.0          7103.0   \n",
       "4             55.0     1728357.0         20629.0   \n",
       "\n",
       "   Current health expenditure (% of GDP)  \\\n",
       "0                              17.061269   \n",
       "1                               8.873130   \n",
       "2                               8.840259   \n",
       "3                              11.312892   \n",
       "4                              11.246835   \n",
       "\n",
       "   Death rate, crude (per 1,000 people)  \\\n",
       "0                                 8.638   \n",
       "1                                 9.100   \n",
       "2                                10.700   \n",
       "3                                 9.100   \n",
       "4                                11.300   \n",
       "\n",
       "   Life expectancy at birth, total (years)  \\\n",
       "0                                78.539024   \n",
       "1                                83.282927   \n",
       "2                                82.946341   \n",
       "3                                82.526829   \n",
       "4                                80.992683   \n",
       "\n",
       "   Population ages 65 and above, total  Population, total  \n",
       "0                           50110709.0        324985539.0  \n",
       "1                            8920670.0         46593236.0  \n",
       "2                           13620571.0         60536709.0  \n",
       "3                           13151703.0         66865144.0  \n",
       "4                           17665031.0         82657002.0  "
      ]
     },
     "execution_count": 70,
     "metadata": {},
     "output_type": "execute_result"
    }
   ],
   "source": [
    "covid_wdi.head()"
   ]
  },
  {
   "cell_type": "code",
   "execution_count": 22,
   "metadata": {
    "scrolled": true
   },
   "outputs": [
    {
     "name": "stdout",
     "output_type": "stream",
     "text": [
      "                                   variable missing_values  missing_%\n",
      "4                               New  Deaths             93      56.36\n",
      "7                        Serious,  Critical             51      30.91\n",
      "2                                New  Cases             48      29.09\n",
      "3                             Total  Deaths             28      16.97\n",
      "9                           Deaths/  1M pop             28      16.97\n",
      "10                             Total  Tests             26      15.76\n",
      "11                           Tests/  1M pop             26      15.76\n",
      "12    Current health expenditure (% of GDP)             15       9.09\n",
      "15      Population ages 65 and above, total             12       7.27\n",
      "14  Life expectancy at birth, total (years)              9       5.45\n",
      "5                          Total  Recovered              7       4.24\n",
      "13     Death rate, crude (per 1,000 people)              6       3.64\n",
      "16                        Population, total              1       0.61\n",
      "0                                   Country              0       0.00\n",
      "1                              Total  Cases              0       0.00\n",
      "6                             Active  Cases              0       0.00\n",
      "8                        Tot Cases/  1M pop              0       0.00\n"
     ]
    }
   ],
   "source": [
    "missing_values(covid_wdi)"
   ]
  },
  {
   "cell_type": "markdown",
   "metadata": {},
   "source": [
    "### Visualizations & Insights\n",
    "\n",
    "Now since we have the final data ready, it's time to perform Exploratory Data Analysis to find out some key answers."
   ]
  },
  {
   "cell_type": "markdown",
   "metadata": {},
   "source": [
    "**Highest Number of Cases:** "
   ]
  },
  {
   "cell_type": "code",
   "execution_count": 85,
   "metadata": {
    "scrolled": true
   },
   "outputs": [
    {
     "data": {
      "image/png": "[encoded data removed]",
      "text/plain": [
       "<Figure size 864x504 with 1 Axes>"
      ]
     },
     "metadata": {
      "needs_background": "light"
     },
     "output_type": "display_data"
    }
   ],
   "source": [
    "covid10 = covid_wdi.sort_values(by='Total  Cases', ascending=False).head(10)\n",
    "plt.figure(figsize=(12,7))\n",
    "sns.barplot(x=\"Total  Cases\", y=\"Country\", data=covid10)\n",
    "plt.title('Highest Number of Cases by Country');"
   ]
  },
  {
   "cell_type": "markdown",
   "metadata": {},
   "source": [
    "**Highest Number of Deaths:**"
   ]
  },
  {
   "cell_type": "code",
   "execution_count": 80,
   "metadata": {},
   "outputs": [
    {
     "data": {
      "image/png": "[encoded data removed]",
      "text/plain": [
       "<Figure size 864x504 with 1 Axes>"
      ]
     },
     "metadata": {
      "needs_background": "light"
     },
     "output_type": "display_data"
    }
   ],
   "source": [
    "covid10_v1 = covid_wdi.sort_values(by='Total  Deaths', ascending=False).head(10)\n",
    "f, ax = plt.subplots(figsize=(12,7))\n",
    "sns.barplot(x=\"Total  Deaths\", y=\"Country\", data=covid10_v1)\n",
    "plt.title('Highest Number of Deaths by Country');"
   ]
  },
  {
   "cell_type": "code",
   "execution_count": 59,
   "metadata": {},
   "outputs": [
    {
     "data": {
      "image/png": "[encoded data removed]",
      "text/plain": [
       "<Figure size 864x504 with 1 Axes>"
      ]
     },
     "metadata": {
      "needs_background": "light"
     },
     "output_type": "display_data"
    }
   ],
   "source": [
    "covid_rec = covid_wdi.copy()\n",
    "covid_rec = covid_rec[covid_rec[\"Total  Cases\"] > 1000]\n",
    "covid_rec[\"Percent Recovered\"] = covid_rec[\"Total  Recovered\"]*100/covid_rec[\"Total  Cases\"]\n",
    "covid_rec = covid_rec.sort_values(by=\"Percent Recovered\", ascending=False).head(10)\n",
    "f, ax = plt.subplots(figsize=(12,7))\n",
    "sns.barplot(x=\"Percent Recovered\", y=\"Country\", data=covid_rec)\n",
    "plt.title('Countries with highest percent of recovered patients');"
   ]
  },
  {
   "cell_type": "markdown",
   "metadata": {},
   "source": [
    "**Key insights from above plots:**\n",
    "\n",
    "* Countries with most cases and most deaths are more or less the same. Countries like USA, Spain, Italy, France and UK have been impacted the most.\n",
    "* China, although initially had large number of cases but most of them are recovered.\n",
    "* Iceland, Austria and Thailand are other countries which have high percent of recovered patients(**Note:**Only Countries where number of cases have exceeded 1000 are taken)"
   ]
  },
  {
   "cell_type": "markdown",
   "metadata": {},
   "source": [
    "**Do Countries with high health expenditure have done more testing?**"
   ]
  },
  {
   "cell_type": "code",
   "execution_count": 26,
   "metadata": {
    "scrolled": true
   },
   "outputs": [
    {
     "data": {
      "image/png": "[encoded data removed]",
      "text/plain": [
       "<Figure size 720x360 with 1 Axes>"
      ]
     },
     "metadata": {
      "needs_background": "light"
     },
     "output_type": "display_data"
    }
   ],
   "source": [
    "plt.figure(figsize=(10,5))\n",
    "sns.regplot(x='Current health expenditure (% of GDP)',y='Tests/  1M pop',data=covid_wdi[(covid_wdi['Tests/  1M pop']>100) & \n",
    "                                                                                           (covid_wdi['Tests/  1M pop']<60000)])\n",
    "plt.title('Health Expenditure vs Tests(per 1M pop)');"
   ]
  },
  {
   "cell_type": "markdown",
   "metadata": {},
   "source": [
    "We can observe a slight positive linear relation between Tests carried out and Health expenditure of a country."
   ]
  },
  {
   "cell_type": "markdown",
   "metadata": {},
   "source": [
    "**Do countries with higher deaths have high percent of population above 65 age?**"
   ]
  },
  {
   "cell_type": "code",
   "execution_count": 27,
   "metadata": {},
   "outputs": [],
   "source": [
    "covid_wdi['Percent_Above65'] = (covid_wdi['Population ages 65 and above, total']/covid_wdi['Population, total'])*100"
   ]
  },
  {
   "cell_type": "code",
   "execution_count": 28,
   "metadata": {},
   "outputs": [
    {
     "data": {
      "image/png": "[encoded data removed]",
      "text/plain": [
       "<Figure size 720x360 with 1 Axes>"
      ]
     },
     "metadata": {
      "needs_background": "light"
     },
     "output_type": "display_data"
    }
   ],
   "source": [
    "plt.figure(figsize=(10,5))\n",
    "sns.regplot(x='Percent_Above65',y='Deaths/  1M pop',data=covid_wdi[covid_wdi['Deaths/  1M pop']>100])\n",
    "plt.title('Deaths(per 1M pop) vs Precent of Population Above 65');"
   ]
  },
  {
   "cell_type": "markdown",
   "metadata": {},
   "source": [
    "One interesting observation from the above plot is that for countries with higher deaths(at least 100 per 1M population ), there seems to be a highly linear relationship between Deaths and Percent of population above 65."
   ]
  },
  {
   "cell_type": "markdown",
   "metadata": {},
   "source": [
    "**Is COVID-19 causing higher death rate as compared to earlier?**"
   ]
  },
  {
   "cell_type": "code",
   "execution_count": 52,
   "metadata": {},
   "outputs": [
    {
     "data": {
      "image/png": "[encoded data removed]",
      "text/plain": [
       "<Figure size 720x360 with 1 Axes>"
      ]
     },
     "metadata": {
      "needs_background": "light"
     },
     "output_type": "display_data"
    }
   ],
   "source": [
    "covid_wdi_new = covid_wdi.copy()\n",
    "covid_wdi_new['Earlier Deaths/1M pop(before COVID)'] = covid_wdi_new['Death rate, crude (per 1,000 people)']*(1000/8)\n",
    "plt.figure(figsize=(10,5))\n",
    "sns.kdeplot(covid_wdi_new['Deaths/  1M pop'], shade=True)\n",
    "sns.kdeplot(covid_wdi_new['Earlier Deaths/1M pop(before COVID)'], shade=True)\n",
    "plt.title('Death Rate Distribution(Before Covid-19 vs After)');"
   ]
  },
  {
   "cell_type": "markdown",
   "metadata": {},
   "source": [
    "In order to compare the earlier death rate with the present, the \"Death Rate\" column was mapped to 1M population and also calculated for 1.5 months in order to have a fair comparison with Deaths due to Covid-19(which has also lasted about the same time).\n",
    "\n",
    "Some insights:\n",
    "* Covid-19 death rate is highly right-skewed with quite high number of deaths now reported\n",
    "* The magnitude of individual death numbers for each country is however low as compared to earlier rate. The reason might be because of social distancing less crimes, less road accidents etc but at the same time the effect of pandemic will be seen in a long run and it will be fair to compare these rates after this year."
   ]
  },
  {
   "cell_type": "markdown",
   "metadata": {},
   "source": [
    "### Model Building\n",
    "\n",
    "Since we have done the initial exploratory data analysis, we are going to build two regression models to predict \"Deaths / 1M pop\". We are not going to use \"Total Deaths\" because it doesn't take the population of given country into account. We are also taking countries which have Deaths per 1M pop at least greater than 10 in order to remove any discrepancies in the data reporting of these countries.\n",
    "\n",
    "**Response Variable:** Deaths / 1M pop"
   ]
  },
  {
   "cell_type": "code",
   "execution_count": 29,
   "metadata": {},
   "outputs": [],
   "source": [
    "## Removing \"New Deaths\", \"Serious,  Critical\" and \"New  Cases\" beacuse of high percent of missing values\n",
    "\n",
    "colsRemoved = [\"New  Deaths\", \"Serious,  Critical\",\"New  Cases\"]\n",
    "modelData = covid_wdi.drop(colsRemoved,axis=1)\n",
    "modelData = modelData.dropna()"
   ]
  },
  {
   "cell_type": "code",
   "execution_count": 30,
   "metadata": {},
   "outputs": [
    {
     "data": {
      "text/html": [
       "<div>\n",
       "<style scoped>\n",
       "    .dataframe tbody tr th:only-of-type {\n",
       "        vertical-align: middle;\n",
       "    }\n",
       "\n",
       "    .dataframe tbody tr th {\n",
       "        vertical-align: top;\n",
       "    }\n",
       "\n",
       "    .dataframe thead th {\n",
       "        text-align: right;\n",
       "    }\n",
       "</style>\n",
       "<table border=\"1\" class=\"dataframe\">\n",
       "  <thead>\n",
       "    <tr style=\"text-align: right;\">\n",
       "      <th></th>\n",
       "      <th>Total  Cases</th>\n",
       "      <th>Total  Deaths</th>\n",
       "      <th>Total  Recovered</th>\n",
       "      <th>Active  Cases</th>\n",
       "      <th>Tot Cases/  1M pop</th>\n",
       "      <th>Deaths/  1M pop</th>\n",
       "      <th>Total  Tests</th>\n",
       "      <th>Tests/  1M pop</th>\n",
       "      <th>Current health expenditure (% of GDP)</th>\n",
       "      <th>Death rate, crude (per 1,000 people)</th>\n",
       "      <th>Life expectancy at birth, total (years)</th>\n",
       "      <th>Population ages 65 and above, total</th>\n",
       "      <th>Population, total</th>\n",
       "      <th>Percent_Above65</th>\n",
       "    </tr>\n",
       "  </thead>\n",
       "  <tbody>\n",
       "    <tr>\n",
       "      <th>count</th>\n",
       "      <td>104.000000</td>\n",
       "      <td>104.000000</td>\n",
       "      <td>104.000000</td>\n",
       "      <td>104.000000</td>\n",
       "      <td>104.000000</td>\n",
       "      <td>104.000000</td>\n",
       "      <td>1.040000e+02</td>\n",
       "      <td>104.000000</td>\n",
       "      <td>104.000000</td>\n",
       "      <td>104.000000</td>\n",
       "      <td>104.000000</td>\n",
       "      <td>1.040000e+02</td>\n",
       "      <td>1.040000e+02</td>\n",
       "      <td>104.000000</td>\n",
       "    </tr>\n",
       "    <tr>\n",
       "      <th>mean</th>\n",
       "      <td>19507.442308</td>\n",
       "      <td>1329.990385</td>\n",
       "      <td>4422.980769</td>\n",
       "      <td>13754.471154</td>\n",
       "      <td>665.825000</td>\n",
       "      <td>33.313558</td>\n",
       "      <td>1.473213e+05</td>\n",
       "      <td>8966.317308</td>\n",
       "      <td>7.026058</td>\n",
       "      <td>7.933231</td>\n",
       "      <td>74.960230</td>\n",
       "      <td>3.982866e+06</td>\n",
       "      <td>4.582444e+07</td>\n",
       "      <td>10.923667</td>\n",
       "    </tr>\n",
       "    <tr>\n",
       "      <th>std</th>\n",
       "      <td>80914.011573</td>\n",
       "      <td>5344.242476</td>\n",
       "      <td>14378.807479</td>\n",
       "      <td>66013.930503</td>\n",
       "      <td>1079.975183</td>\n",
       "      <td>84.880505</td>\n",
       "      <td>4.416389e+05</td>\n",
       "      <td>15579.563077</td>\n",
       "      <td>2.600210</td>\n",
       "      <td>2.872005</td>\n",
       "      <td>6.468089</td>\n",
       "      <td>1.008298e+07</td>\n",
       "      <td>1.398707e+08</td>\n",
       "      <td>6.470185</td>\n",
       "    </tr>\n",
       "    <tr>\n",
       "      <th>min</th>\n",
       "      <td>7.000000</td>\n",
       "      <td>1.000000</td>\n",
       "      <td>2.000000</td>\n",
       "      <td>0.000000</td>\n",
       "      <td>0.900000</td>\n",
       "      <td>0.030000</td>\n",
       "      <td>7.300000e+01</td>\n",
       "      <td>22.000000</td>\n",
       "      <td>2.274249</td>\n",
       "      <td>1.169000</td>\n",
       "      <td>53.950000</td>\n",
       "      <td>8.183000e+03</td>\n",
       "      <td>9.542600e+04</td>\n",
       "      <td>1.232125</td>\n",
       "    </tr>\n",
       "    <tr>\n",
       "      <th>25%</th>\n",
       "      <td>519.250000</td>\n",
       "      <td>8.000000</td>\n",
       "      <td>86.250000</td>\n",
       "      <td>397.250000</td>\n",
       "      <td>46.500000</td>\n",
       "      <td>1.000000</td>\n",
       "      <td>9.352250e+03</td>\n",
       "      <td>545.750000</td>\n",
       "      <td>5.117204</td>\n",
       "      <td>5.909500</td>\n",
       "      <td>71.984244</td>\n",
       "      <td>3.911250e+05</td>\n",
       "      <td>4.012079e+06</td>\n",
       "      <td>5.201752</td>\n",
       "    </tr>\n",
       "    <tr>\n",
       "      <th>50%</th>\n",
       "      <td>1876.000000</td>\n",
       "      <td>47.000000</td>\n",
       "      <td>337.000000</td>\n",
       "      <td>1233.000000</td>\n",
       "      <td>190.000000</td>\n",
       "      <td>4.500000</td>\n",
       "      <td>3.951700e+04</td>\n",
       "      <td>3641.000000</td>\n",
       "      <td>6.834562</td>\n",
       "      <td>7.352000</td>\n",
       "      <td>75.822537</td>\n",
       "      <td>1.041670e+06</td>\n",
       "      <td>1.040672e+07</td>\n",
       "      <td>9.687051</td>\n",
       "    </tr>\n",
       "    <tr>\n",
       "      <th>75%</th>\n",
       "      <td>7412.250000</td>\n",
       "      <td>228.500000</td>\n",
       "      <td>1085.500000</td>\n",
       "      <td>5486.500000</td>\n",
       "      <td>756.250000</td>\n",
       "      <td>20.250000</td>\n",
       "      <td>9.901600e+04</td>\n",
       "      <td>10707.000000</td>\n",
       "      <td>8.887764</td>\n",
       "      <td>9.525000</td>\n",
       "      <td>80.153750</td>\n",
       "      <td>2.970216e+06</td>\n",
       "      <td>3.679569e+07</td>\n",
       "      <td>16.836851</td>\n",
       "    </tr>\n",
       "    <tr>\n",
       "      <th>max</th>\n",
       "      <td>762496.000000</td>\n",
       "      <td>40478.000000</td>\n",
       "      <td>88000.000000</td>\n",
       "      <td>652062.000000</td>\n",
       "      <td>5671.000000</td>\n",
       "      <td>490.000000</td>\n",
       "      <td>3.852758e+06</td>\n",
       "      <td>120416.000000</td>\n",
       "      <td>17.061269</td>\n",
       "      <td>15.500000</td>\n",
       "      <td>84.099756</td>\n",
       "      <td>8.009348e+07</td>\n",
       "      <td>1.338659e+09</td>\n",
       "      <td>27.109480</td>\n",
       "    </tr>\n",
       "  </tbody>\n",
       "</table>\n",
       "</div>"
      ],
      "text/plain": [
       "        Total  Cases  Total  Deaths  Total  Recovered  Active  Cases  \\\n",
       "count     104.000000     104.000000        104.000000     104.000000   \n",
       "mean    19507.442308    1329.990385       4422.980769   13754.471154   \n",
       "std     80914.011573    5344.242476      14378.807479   66013.930503   \n",
       "min         7.000000       1.000000          2.000000       0.000000   \n",
       "25%       519.250000       8.000000         86.250000     397.250000   \n",
       "50%      1876.000000      47.000000        337.000000    1233.000000   \n",
       "75%      7412.250000     228.500000       1085.500000    5486.500000   \n",
       "max    762496.000000   40478.000000      88000.000000  652062.000000   \n",
       "\n",
       "       Tot Cases/  1M pop  Deaths/  1M pop  Total  Tests  Tests/  1M pop  \\\n",
       "count          104.000000       104.000000  1.040000e+02      104.000000   \n",
       "mean           665.825000        33.313558  1.473213e+05     8966.317308   \n",
       "std           1079.975183        84.880505  4.416389e+05    15579.563077   \n",
       "min              0.900000         0.030000  7.300000e+01       22.000000   \n",
       "25%             46.500000         1.000000  9.352250e+03      545.750000   \n",
       "50%            190.000000         4.500000  3.951700e+04     3641.000000   \n",
       "75%            756.250000        20.250000  9.901600e+04    10707.000000   \n",
       "max           5671.000000       490.000000  3.852758e+06   120416.000000   \n",
       "\n",
       "       Current health expenditure (% of GDP)  \\\n",
       "count                             104.000000   \n",
       "mean                                7.026058   \n",
       "std                                 2.600210   \n",
       "min                                 2.274249   \n",
       "25%                                 5.117204   \n",
       "50%                                 6.834562   \n",
       "75%                                 8.887764   \n",
       "max                                17.061269   \n",
       "\n",
       "       Death rate, crude (per 1,000 people)  \\\n",
       "count                            104.000000   \n",
       "mean                               7.933231   \n",
       "std                                2.872005   \n",
       "min                                1.169000   \n",
       "25%                                5.909500   \n",
       "50%                                7.352000   \n",
       "75%                                9.525000   \n",
       "max                               15.500000   \n",
       "\n",
       "       Life expectancy at birth, total (years)  \\\n",
       "count                               104.000000   \n",
       "mean                                 74.960230   \n",
       "std                                   6.468089   \n",
       "min                                  53.950000   \n",
       "25%                                  71.984244   \n",
       "50%                                  75.822537   \n",
       "75%                                  80.153750   \n",
       "max                                  84.099756   \n",
       "\n",
       "       Population ages 65 and above, total  Population, total  Percent_Above65  \n",
       "count                         1.040000e+02       1.040000e+02       104.000000  \n",
       "mean                          3.982866e+06       4.582444e+07        10.923667  \n",
       "std                           1.008298e+07       1.398707e+08         6.470185  \n",
       "min                           8.183000e+03       9.542600e+04         1.232125  \n",
       "25%                           3.911250e+05       4.012079e+06         5.201752  \n",
       "50%                           1.041670e+06       1.040672e+07         9.687051  \n",
       "75%                           2.970216e+06       3.679569e+07        16.836851  \n",
       "max                           8.009348e+07       1.338659e+09        27.109480  "
      ]
     },
     "execution_count": 30,
     "metadata": {},
     "output_type": "execute_result"
    }
   ],
   "source": [
    "modelData.describe()"
   ]
  },
  {
   "cell_type": "markdown",
   "metadata": {},
   "source": [
    "**Correlation Matrix:**"
   ]
  },
  {
   "cell_type": "code",
   "execution_count": 31,
   "metadata": {},
   "outputs": [
    {
     "name": "stdout",
     "output_type": "stream",
     "text": [
      "Population, total                         -0.017470\n",
      "Population ages 65 and above, total        0.122193\n",
      "Death rate, crude (per 1,000 people)       0.151056\n",
      "Tests/  1M pop                             0.198424\n",
      "Active  Cases                              0.314400\n",
      "Total  Tests                               0.367780\n",
      "Current health expenditure (% of GDP)      0.375698\n",
      "Life expectancy at birth, total (years)    0.386487\n",
      "Total  Cases                               0.400877\n",
      "Percent_Above65                            0.424455\n",
      "Total  Recovered                           0.574824\n",
      "Total  Deaths                              0.639283\n",
      "Tot Cases/  1M pop                         0.689164\n",
      "Deaths/  1M pop                            1.000000\n",
      "Name: Deaths/  1M pop, dtype: float64\n"
     ]
    },
    {
     "data": {
      "image/png": "[encoded data removed]",
      "text/plain": [
       "<Figure size 720x720 with 2 Axes>"
      ]
     },
     "metadata": {
      "needs_background": "light"
     },
     "output_type": "display_data"
    }
   ],
   "source": [
    "corr=modelData.corr()\n",
    "corr_delay=corr['Deaths/  1M pop'].sort_values()\n",
    "print(corr_delay)\n",
    "\n",
    "plt.subplots(figsize=(10,10))\n",
    "chart=sns.heatmap(corr, vmax=0.9, square=True);\n",
    "chart.set_yticklabels(chart.get_yticklabels(), rotation=0);"
   ]
  },
  {
   "cell_type": "markdown",
   "metadata": {},
   "source": [
    "From above correlation matrix we can see that many of the predictor variables are highly correlated among themselves like:\n",
    "\n",
    "* Total Cases and Total Deaths\n",
    "* Total Cases and Active Cases\n",
    "* Population above 65 and Total Population\n",
    "* Total Tests and Total Cases, Total Deaths\n",
    "\n",
    "Using only one or the other variable to avoid multicollinearity:"
   ]
  },
  {
   "cell_type": "code",
   "execution_count": 32,
   "metadata": {},
   "outputs": [],
   "source": [
    "cols_rem = ['Total  Deaths','Active  Cases','Population ages 65 and above, total','Population, total']\n",
    "finalModelData = modelData.drop(cols_rem,axis=1)"
   ]
  },
  {
   "cell_type": "markdown",
   "metadata": {},
   "source": [
    "#### Linear Regression Model"
   ]
  },
  {
   "cell_type": "code",
   "execution_count": 33,
   "metadata": {},
   "outputs": [
    {
     "data": {
      "text/plain": [
       "array(['Total  Cases', 'Total  Recovered', 'Tot\\xa0Cases/  1M pop',\n",
       "       'Total  Tests', 'Tests/  1M pop',\n",
       "       'Current health expenditure (% of GDP)',\n",
       "       'Death rate, crude (per 1,000 people)',\n",
       "       'Life expectancy at birth, total (years)', 'Percent_Above65'],\n",
       "      dtype=object)"
      ]
     },
     "execution_count": 33,
     "metadata": {},
     "output_type": "execute_result"
    }
   ],
   "source": [
    "X=finalModelData.drop(['Deaths/  1M pop','Country'],1)\n",
    "Y=finalModelData['Deaths/  1M pop']\n",
    "\n",
    "X.columns.values"
   ]
  },
  {
   "cell_type": "code",
   "execution_count": 34,
   "metadata": {},
   "outputs": [],
   "source": [
    "# Splitting the data\n",
    "X_train, X_test, Y_train, Y_test = train_test_split(X, Y, test_size=0.3, random_state=10)"
   ]
  },
  {
   "cell_type": "code",
   "execution_count": 35,
   "metadata": {},
   "outputs": [
    {
     "data": {
      "text/plain": [
       "LinearRegression(copy_X=True, fit_intercept=True, n_jobs=None, normalize=False)"
      ]
     },
     "execution_count": 35,
     "metadata": {},
     "output_type": "execute_result"
    }
   ],
   "source": [
    "model=LinearRegression(fit_intercept=True)\n",
    "model.fit(X_train,Y_train)"
   ]
  },
  {
   "cell_type": "code",
   "execution_count": 36,
   "metadata": {},
   "outputs": [
    {
     "data": {
      "text/html": [
       "<div>\n",
       "<style scoped>\n",
       "    .dataframe tbody tr th:only-of-type {\n",
       "        vertical-align: middle;\n",
       "    }\n",
       "\n",
       "    .dataframe tbody tr th {\n",
       "        vertical-align: top;\n",
       "    }\n",
       "\n",
       "    .dataframe thead th {\n",
       "        text-align: right;\n",
       "    }\n",
       "</style>\n",
       "<table border=\"1\" class=\"dataframe\">\n",
       "  <thead>\n",
       "    <tr style=\"text-align: right;\">\n",
       "      <th></th>\n",
       "      <th>Predictor</th>\n",
       "      <th>Coeffcient_Values</th>\n",
       "    </tr>\n",
       "  </thead>\n",
       "  <tbody>\n",
       "    <tr>\n",
       "      <th>8</th>\n",
       "      <td>Percent_Above65</td>\n",
       "      <td>2.790407</td>\n",
       "    </tr>\n",
       "    <tr>\n",
       "      <th>5</th>\n",
       "      <td>Current health expenditure (% of GDP)</td>\n",
       "      <td>1.452570</td>\n",
       "    </tr>\n",
       "    <tr>\n",
       "      <th>2</th>\n",
       "      <td>Tot Cases/  1M pop</td>\n",
       "      <td>0.101260</td>\n",
       "    </tr>\n",
       "    <tr>\n",
       "      <th>0</th>\n",
       "      <td>Total  Cases</td>\n",
       "      <td>-0.000005</td>\n",
       "    </tr>\n",
       "    <tr>\n",
       "      <th>3</th>\n",
       "      <td>Total  Tests</td>\n",
       "      <td>-0.000012</td>\n",
       "    </tr>\n",
       "    <tr>\n",
       "      <th>1</th>\n",
       "      <td>Total  Recovered</td>\n",
       "      <td>-0.000502</td>\n",
       "    </tr>\n",
       "    <tr>\n",
       "      <th>4</th>\n",
       "      <td>Tests/  1M pop</td>\n",
       "      <td>-0.003940</td>\n",
       "    </tr>\n",
       "    <tr>\n",
       "      <th>7</th>\n",
       "      <td>Life expectancy at birth, total (years)</td>\n",
       "      <td>-1.919190</td>\n",
       "    </tr>\n",
       "    <tr>\n",
       "      <th>6</th>\n",
       "      <td>Death rate, crude (per 1,000 people)</td>\n",
       "      <td>-2.534360</td>\n",
       "    </tr>\n",
       "  </tbody>\n",
       "</table>\n",
       "</div>"
      ],
      "text/plain": [
       "                                 Predictor  Coeffcient_Values\n",
       "8                          Percent_Above65           2.790407\n",
       "5    Current health expenditure (% of GDP)           1.452570\n",
       "2                       Tot Cases/  1M pop           0.101260\n",
       "0                             Total  Cases          -0.000005\n",
       "3                             Total  Tests          -0.000012\n",
       "1                         Total  Recovered          -0.000502\n",
       "4                           Tests/  1M pop          -0.003940\n",
       "7  Life expectancy at birth, total (years)          -1.919190\n",
       "6     Death rate, crude (per 1,000 people)          -2.534360"
      ]
     },
     "execution_count": 36,
     "metadata": {},
     "output_type": "execute_result"
    }
   ],
   "source": [
    "model_summary = pd.DataFrame({'Predictor':X.columns,'Coeffcient_Values':model.coef_})\n",
    "model_summary.sort_values(by='Coeffcient_Values', ascending=False)"
   ]
  },
  {
   "cell_type": "code",
   "execution_count": 37,
   "metadata": {},
   "outputs": [
    {
     "name": "stdout",
     "output_type": "stream",
     "text": [
      "coefficient of determination: 0.7189530375588853\n"
     ]
    }
   ],
   "source": [
    "r_sq = model.score(X_train,Y_train)\n",
    "print('coefficient of determination:', r_sq)"
   ]
  },
  {
   "cell_type": "code",
   "execution_count": 38,
   "metadata": {},
   "outputs": [
    {
     "data": {
      "text/plain": [
       "5184.794301446945"
      ]
     },
     "execution_count": 38,
     "metadata": {},
     "output_type": "execute_result"
    }
   ],
   "source": [
    "Y_pred=model.predict(X_test)\n",
    "mean_squared_error(Y_test,Y_pred) "
   ]
  },
  {
   "cell_type": "markdown",
   "metadata": {},
   "source": [
    "**Model Insights:** \n",
    "* Percent of population above 65, Current Health Expenditure appeared to be the most dominating predictors in terms of being postively related with response variable. \n",
    "* In negative coefficients, Life Expectancy and Death Rate(as of 2017) were the prominent predictors."
   ]
  },
  {
   "cell_type": "markdown",
   "metadata": {},
   "source": [
    "#### Decision Tree Model"
   ]
  },
  {
   "cell_type": "code",
   "execution_count": 73,
   "metadata": {},
   "outputs": [
    {
     "data": {
      "text/plain": [
       "DecisionTreeRegressor(criterion='mse', max_depth=None, max_features=None,\n",
       "                      max_leaf_nodes=None, min_impurity_decrease=0.0,\n",
       "                      min_impurity_split=None, min_samples_leaf=1,\n",
       "                      min_samples_split=2, min_weight_fraction_leaf=0.0,\n",
       "                      presort=False, random_state=10, splitter='best')"
      ]
     },
     "execution_count": 73,
     "metadata": {},
     "output_type": "execute_result"
    }
   ],
   "source": [
    "clf=DecisionTreeRegressor(random_state=10)\n",
    "clf.fit(X_train,Y_train)"
   ]
  },
  {
   "cell_type": "code",
   "execution_count": 74,
   "metadata": {},
   "outputs": [
    {
     "name": "stdout",
     "output_type": "stream",
     "text": [
      "coefficient of determination: 1.0\n"
     ]
    }
   ],
   "source": [
    "print('coefficient of determination:',clf.score(X_train,Y_train))"
   ]
  },
  {
   "cell_type": "code",
   "execution_count": 41,
   "metadata": {},
   "outputs": [
    {
     "data": {
      "text/plain": [
       "8486.2471875"
      ]
     },
     "execution_count": 41,
     "metadata": {},
     "output_type": "execute_result"
    }
   ],
   "source": [
    "Y_pred=clf.predict(X_test)\n",
    "mean_squared_error(Y_test,Y_pred) "
   ]
  },
  {
   "cell_type": "markdown",
   "metadata": {},
   "source": [
    "### Conclusion\n",
    "\n",
    "This concludes our short case study about the current Covid-19 pandemic. We were able to see which countries have been impacted most and which countries are on road to recovery.\n",
    "\n",
    "We tried to answer some questions related to these countries and what factors could be contributing to their current death statistics. Two models - Linear regression and Decsion Tree were fit to predict \"Deaths/ 1M population\". The key summaries of the model are:\n",
    "\n",
    "* Linear Regression: R^2 = 0.72, MSE = 5184.80\n",
    "* Decision Tree: R^2 ~ 1, MSE = 8486.24"
   ]
  }
 ],
 "metadata": {
  "kernelspec": {
   "display_name": "Python 3",
   "language": "python",
   "name": "python3"
  },
  "language_info": {
   "codemirror_mode": {
    "name": "ipython",
    "version": 3
   },
   "file_extension": ".py",
   "mimetype": "text/x-python",
   "name": "python",
   "nbconvert_exporter": "python",
   "pygments_lexer": "ipython3",
   "version": "3.7.3"
  }
 },
 "nbformat": 4,
 "nbformat_minor": 2
}
